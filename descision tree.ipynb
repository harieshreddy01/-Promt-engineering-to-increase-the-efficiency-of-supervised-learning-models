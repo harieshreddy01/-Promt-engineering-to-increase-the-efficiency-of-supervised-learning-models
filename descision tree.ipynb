{
 "cells": [
  {
   "cell_type": "code",
   "execution_count": 1,
   "id": "6bfa34c6",
   "metadata": {},
   "outputs": [],
   "source": [
    "import pandas as pd\n",
    "import numpy as np"
   ]
  },
  {
   "cell_type": "code",
   "execution_count": 2,
   "id": "e96159d3",
   "metadata": {},
   "outputs": [],
   "source": [
    "df = pd.read_csv(\"Real_time_Decision_Tree_Training_Data.csv\", header = None)"
   ]
  },
  {
   "cell_type": "code",
   "execution_count": 3,
   "id": "ad461d9d",
   "metadata": {},
   "outputs": [
    {
     "data": {
      "text/html": [
       "<div>\n",
       "<style scoped>\n",
       "    .dataframe tbody tr th:only-of-type {\n",
       "        vertical-align: middle;\n",
       "    }\n",
       "\n",
       "    .dataframe tbody tr th {\n",
       "        vertical-align: top;\n",
       "    }\n",
       "\n",
       "    .dataframe thead th {\n",
       "        text-align: right;\n",
       "    }\n",
       "</style>\n",
       "<table border=\"1\" class=\"dataframe\">\n",
       "  <thead>\n",
       "    <tr style=\"text-align: right;\">\n",
       "      <th></th>\n",
       "      <th>0</th>\n",
       "      <th>1</th>\n",
       "      <th>2</th>\n",
       "      <th>3</th>\n",
       "      <th>4</th>\n",
       "      <th>5</th>\n",
       "    </tr>\n",
       "  </thead>\n",
       "  <tbody>\n",
       "    <tr>\n",
       "      <th>0</th>\n",
       "      <td>Loan_Amount</td>\n",
       "      <td>Credit_Score</td>\n",
       "      <td>Income</td>\n",
       "      <td>Debt_to_Income_Ratio</td>\n",
       "      <td>Late_Payments</td>\n",
       "      <td>Target</td>\n",
       "    </tr>\n",
       "    <tr>\n",
       "      <th>1</th>\n",
       "      <td>-1.9490102017994488</td>\n",
       "      <td>2.015162674061784</td>\n",
       "      <td>2.2129837794655316</td>\n",
       "      <td>-0.47118828673110374</td>\n",
       "      <td>-0.6999227931689913</td>\n",
       "      <td>0</td>\n",
       "    </tr>\n",
       "    <tr>\n",
       "      <th>2</th>\n",
       "      <td>0.3783718879645226</td>\n",
       "      <td>0.21947079963107116</td>\n",
       "      <td>2.02702591396776</td>\n",
       "      <td>0.057948197063999014</td>\n",
       "      <td>-1.7383529161695614</td>\n",
       "      <td>1</td>\n",
       "    </tr>\n",
       "    <tr>\n",
       "      <th>3</th>\n",
       "      <td>-0.9620027680572485</td>\n",
       "      <td>-1.1745683791602006</td>\n",
       "      <td>-1.2221136364214795</td>\n",
       "      <td>-1.6360667878657922</td>\n",
       "      <td>-0.8211879585268684</td>\n",
       "      <td>1</td>\n",
       "    </tr>\n",
       "    <tr>\n",
       "      <th>4</th>\n",
       "      <td>2.371780103570927</td>\n",
       "      <td>-0.4973847333680416</td>\n",
       "      <td>1.3116805743187998</td>\n",
       "      <td>1.382540430833509</td>\n",
       "      <td>-0.8543760469632098</td>\n",
       "      <td>0</td>\n",
       "    </tr>\n",
       "  </tbody>\n",
       "</table>\n",
       "</div>"
      ],
      "text/plain": [
       "                     0                    1                    2  \\\n",
       "0          Loan_Amount         Credit_Score               Income   \n",
       "1  -1.9490102017994488    2.015162674061784   2.2129837794655316   \n",
       "2   0.3783718879645226  0.21947079963107116     2.02702591396776   \n",
       "3  -0.9620027680572485  -1.1745683791602006  -1.2221136364214795   \n",
       "4    2.371780103570927  -0.4973847333680416   1.3116805743187998   \n",
       "\n",
       "                      3                    4       5  \n",
       "0  Debt_to_Income_Ratio        Late_Payments  Target  \n",
       "1  -0.47118828673110374  -0.6999227931689913       0  \n",
       "2  0.057948197063999014  -1.7383529161695614       1  \n",
       "3   -1.6360667878657922  -0.8211879585268684       1  \n",
       "4     1.382540430833509  -0.8543760469632098       0  "
      ]
     },
     "execution_count": 3,
     "metadata": {},
     "output_type": "execute_result"
    }
   ],
   "source": [
    "df.head()"
   ]
  },
  {
   "cell_type": "code",
   "execution_count": 4,
   "id": "2f8ee97a",
   "metadata": {},
   "outputs": [
    {
     "data": {
      "text/html": [
       "<div>\n",
       "<style scoped>\n",
       "    .dataframe tbody tr th:only-of-type {\n",
       "        vertical-align: middle;\n",
       "    }\n",
       "\n",
       "    .dataframe tbody tr th {\n",
       "        vertical-align: top;\n",
       "    }\n",
       "\n",
       "    .dataframe thead th {\n",
       "        text-align: right;\n",
       "    }\n",
       "</style>\n",
       "<table border=\"1\" class=\"dataframe\">\n",
       "  <thead>\n",
       "    <tr style=\"text-align: right;\">\n",
       "      <th></th>\n",
       "      <th>0</th>\n",
       "      <th>1</th>\n",
       "      <th>2</th>\n",
       "      <th>3</th>\n",
       "      <th>4</th>\n",
       "      <th>5</th>\n",
       "    </tr>\n",
       "  </thead>\n",
       "  <tbody>\n",
       "    <tr>\n",
       "      <th>3996</th>\n",
       "      <td>0.906009066026788</td>\n",
       "      <td>1.0578624455761323</td>\n",
       "      <td>0.430228832742628</td>\n",
       "      <td>-0.6160241864067364</td>\n",
       "      <td>-0.7356894888150773</td>\n",
       "      <td>1</td>\n",
       "    </tr>\n",
       "    <tr>\n",
       "      <th>3997</th>\n",
       "      <td>-1.5716931450524965</td>\n",
       "      <td>-3.5792081417431927</td>\n",
       "      <td>2.241356335476785</td>\n",
       "      <td>1.7742067244297475</td>\n",
       "      <td>4.410042999051395</td>\n",
       "      <td>1</td>\n",
       "    </tr>\n",
       "    <tr>\n",
       "      <th>3998</th>\n",
       "      <td>1.4092592694243007</td>\n",
       "      <td>1.8388935041410521</td>\n",
       "      <td>-0.21885319261240999</td>\n",
       "      <td>-0.6134161262952593</td>\n",
       "      <td>-1.6122236023918188</td>\n",
       "      <td>1</td>\n",
       "    </tr>\n",
       "    <tr>\n",
       "      <th>3999</th>\n",
       "      <td>2.1976733312969134</td>\n",
       "      <td>-0.008278130664096224</td>\n",
       "      <td>0.7184242444803419</td>\n",
       "      <td>3.145316920356677</td>\n",
       "      <td>1.817568003174434</td>\n",
       "      <td>1</td>\n",
       "    </tr>\n",
       "    <tr>\n",
       "      <th>4000</th>\n",
       "      <td>1.9448887400827473</td>\n",
       "      <td>0.8227642962556796</td>\n",
       "      <td>1.5009328893190808</td>\n",
       "      <td>0.7097334662165768</td>\n",
       "      <td>0.6113261801933157</td>\n",
       "      <td>0</td>\n",
       "    </tr>\n",
       "  </tbody>\n",
       "</table>\n",
       "</div>"
      ],
      "text/plain": [
       "                        0                      1                     2  \\\n",
       "3996    0.906009066026788     1.0578624455761323     0.430228832742628   \n",
       "3997  -1.5716931450524965    -3.5792081417431927     2.241356335476785   \n",
       "3998   1.4092592694243007     1.8388935041410521  -0.21885319261240999   \n",
       "3999   2.1976733312969134  -0.008278130664096224    0.7184242444803419   \n",
       "4000   1.9448887400827473     0.8227642962556796    1.5009328893190808   \n",
       "\n",
       "                        3                    4  5  \n",
       "3996  -0.6160241864067364  -0.7356894888150773  1  \n",
       "3997   1.7742067244297475    4.410042999051395  1  \n",
       "3998  -0.6134161262952593  -1.6122236023918188  1  \n",
       "3999    3.145316920356677    1.817568003174434  1  \n",
       "4000   0.7097334662165768   0.6113261801933157  0  "
      ]
     },
     "execution_count": 4,
     "metadata": {},
     "output_type": "execute_result"
    }
   ],
   "source": [
    "df.tail()"
   ]
  },
  {
   "cell_type": "code",
   "execution_count": 5,
   "id": "9c857001",
   "metadata": {},
   "outputs": [],
   "source": [
    "df.columns = ['Loan_Amount','Credit_Score','Income','Debt_to_Income_Ratio','Late_Payments','Target']"
   ]
  },
  {
   "cell_type": "code",
   "execution_count": 6,
   "id": "5ad97d06",
   "metadata": {},
   "outputs": [
    {
     "data": {
      "text/html": [
       "<div>\n",
       "<style scoped>\n",
       "    .dataframe tbody tr th:only-of-type {\n",
       "        vertical-align: middle;\n",
       "    }\n",
       "\n",
       "    .dataframe tbody tr th {\n",
       "        vertical-align: top;\n",
       "    }\n",
       "\n",
       "    .dataframe thead th {\n",
       "        text-align: right;\n",
       "    }\n",
       "</style>\n",
       "<table border=\"1\" class=\"dataframe\">\n",
       "  <thead>\n",
       "    <tr style=\"text-align: right;\">\n",
       "      <th></th>\n",
       "      <th>Loan_Amount</th>\n",
       "      <th>Credit_Score</th>\n",
       "      <th>Income</th>\n",
       "      <th>Debt_to_Income_Ratio</th>\n",
       "      <th>Late_Payments</th>\n",
       "      <th>Target</th>\n",
       "    </tr>\n",
       "  </thead>\n",
       "  <tbody>\n",
       "    <tr>\n",
       "      <th>0</th>\n",
       "      <td>Loan_Amount</td>\n",
       "      <td>Credit_Score</td>\n",
       "      <td>Income</td>\n",
       "      <td>Debt_to_Income_Ratio</td>\n",
       "      <td>Late_Payments</td>\n",
       "      <td>Target</td>\n",
       "    </tr>\n",
       "    <tr>\n",
       "      <th>1</th>\n",
       "      <td>-1.9490102017994488</td>\n",
       "      <td>2.015162674061784</td>\n",
       "      <td>2.2129837794655316</td>\n",
       "      <td>-0.47118828673110374</td>\n",
       "      <td>-0.6999227931689913</td>\n",
       "      <td>0</td>\n",
       "    </tr>\n",
       "    <tr>\n",
       "      <th>2</th>\n",
       "      <td>0.3783718879645226</td>\n",
       "      <td>0.21947079963107116</td>\n",
       "      <td>2.02702591396776</td>\n",
       "      <td>0.057948197063999014</td>\n",
       "      <td>-1.7383529161695614</td>\n",
       "      <td>1</td>\n",
       "    </tr>\n",
       "    <tr>\n",
       "      <th>3</th>\n",
       "      <td>-0.9620027680572485</td>\n",
       "      <td>-1.1745683791602006</td>\n",
       "      <td>-1.2221136364214795</td>\n",
       "      <td>-1.6360667878657922</td>\n",
       "      <td>-0.8211879585268684</td>\n",
       "      <td>1</td>\n",
       "    </tr>\n",
       "    <tr>\n",
       "      <th>4</th>\n",
       "      <td>2.371780103570927</td>\n",
       "      <td>-0.4973847333680416</td>\n",
       "      <td>1.3116805743187998</td>\n",
       "      <td>1.382540430833509</td>\n",
       "      <td>-0.8543760469632098</td>\n",
       "      <td>0</td>\n",
       "    </tr>\n",
       "  </tbody>\n",
       "</table>\n",
       "</div>"
      ],
      "text/plain": [
       "           Loan_Amount         Credit_Score               Income  \\\n",
       "0          Loan_Amount         Credit_Score               Income   \n",
       "1  -1.9490102017994488    2.015162674061784   2.2129837794655316   \n",
       "2   0.3783718879645226  0.21947079963107116     2.02702591396776   \n",
       "3  -0.9620027680572485  -1.1745683791602006  -1.2221136364214795   \n",
       "4    2.371780103570927  -0.4973847333680416   1.3116805743187998   \n",
       "\n",
       "   Debt_to_Income_Ratio        Late_Payments  Target  \n",
       "0  Debt_to_Income_Ratio        Late_Payments  Target  \n",
       "1  -0.47118828673110374  -0.6999227931689913       0  \n",
       "2  0.057948197063999014  -1.7383529161695614       1  \n",
       "3   -1.6360667878657922  -0.8211879585268684       1  \n",
       "4     1.382540430833509  -0.8543760469632098       0  "
      ]
     },
     "execution_count": 6,
     "metadata": {},
     "output_type": "execute_result"
    }
   ],
   "source": [
    "df.head()"
   ]
  },
  {
   "cell_type": "code",
   "execution_count": 7,
   "id": "04826d29",
   "metadata": {},
   "outputs": [
    {
     "data": {
      "text/html": [
       "<div>\n",
       "<style scoped>\n",
       "    .dataframe tbody tr th:only-of-type {\n",
       "        vertical-align: middle;\n",
       "    }\n",
       "\n",
       "    .dataframe tbody tr th {\n",
       "        vertical-align: top;\n",
       "    }\n",
       "\n",
       "    .dataframe thead th {\n",
       "        text-align: right;\n",
       "    }\n",
       "</style>\n",
       "<table border=\"1\" class=\"dataframe\">\n",
       "  <thead>\n",
       "    <tr style=\"text-align: right;\">\n",
       "      <th></th>\n",
       "      <th>Loan_Amount</th>\n",
       "      <th>Credit_Score</th>\n",
       "      <th>Income</th>\n",
       "      <th>Debt_to_Income_Ratio</th>\n",
       "      <th>Late_Payments</th>\n",
       "      <th>Target</th>\n",
       "    </tr>\n",
       "  </thead>\n",
       "  <tbody>\n",
       "    <tr>\n",
       "      <th>3996</th>\n",
       "      <td>0.906009066026788</td>\n",
       "      <td>1.0578624455761323</td>\n",
       "      <td>0.430228832742628</td>\n",
       "      <td>-0.6160241864067364</td>\n",
       "      <td>-0.7356894888150773</td>\n",
       "      <td>1</td>\n",
       "    </tr>\n",
       "    <tr>\n",
       "      <th>3997</th>\n",
       "      <td>-1.5716931450524965</td>\n",
       "      <td>-3.5792081417431927</td>\n",
       "      <td>2.241356335476785</td>\n",
       "      <td>1.7742067244297475</td>\n",
       "      <td>4.410042999051395</td>\n",
       "      <td>1</td>\n",
       "    </tr>\n",
       "    <tr>\n",
       "      <th>3998</th>\n",
       "      <td>1.4092592694243007</td>\n",
       "      <td>1.8388935041410521</td>\n",
       "      <td>-0.21885319261240999</td>\n",
       "      <td>-0.6134161262952593</td>\n",
       "      <td>-1.6122236023918188</td>\n",
       "      <td>1</td>\n",
       "    </tr>\n",
       "    <tr>\n",
       "      <th>3999</th>\n",
       "      <td>2.1976733312969134</td>\n",
       "      <td>-0.008278130664096224</td>\n",
       "      <td>0.7184242444803419</td>\n",
       "      <td>3.145316920356677</td>\n",
       "      <td>1.817568003174434</td>\n",
       "      <td>1</td>\n",
       "    </tr>\n",
       "    <tr>\n",
       "      <th>4000</th>\n",
       "      <td>1.9448887400827473</td>\n",
       "      <td>0.8227642962556796</td>\n",
       "      <td>1.5009328893190808</td>\n",
       "      <td>0.7097334662165768</td>\n",
       "      <td>0.6113261801933157</td>\n",
       "      <td>0</td>\n",
       "    </tr>\n",
       "  </tbody>\n",
       "</table>\n",
       "</div>"
      ],
      "text/plain": [
       "              Loan_Amount           Credit_Score                Income  \\\n",
       "3996    0.906009066026788     1.0578624455761323     0.430228832742628   \n",
       "3997  -1.5716931450524965    -3.5792081417431927     2.241356335476785   \n",
       "3998   1.4092592694243007     1.8388935041410521  -0.21885319261240999   \n",
       "3999   2.1976733312969134  -0.008278130664096224    0.7184242444803419   \n",
       "4000   1.9448887400827473     0.8227642962556796    1.5009328893190808   \n",
       "\n",
       "     Debt_to_Income_Ratio        Late_Payments Target  \n",
       "3996  -0.6160241864067364  -0.7356894888150773      1  \n",
       "3997   1.7742067244297475    4.410042999051395      1  \n",
       "3998  -0.6134161262952593  -1.6122236023918188      1  \n",
       "3999    3.145316920356677    1.817568003174434      1  \n",
       "4000   0.7097334662165768   0.6113261801933157      0  "
      ]
     },
     "execution_count": 7,
     "metadata": {},
     "output_type": "execute_result"
    }
   ],
   "source": [
    "df.tail()"
   ]
  },
  {
   "cell_type": "code",
   "execution_count": 8,
   "id": "51eaf2af",
   "metadata": {},
   "outputs": [],
   "source": [
    "df = df.drop(0)"
   ]
  },
  {
   "cell_type": "code",
   "execution_count": 9,
   "id": "08d46eb5",
   "metadata": {},
   "outputs": [
    {
     "name": "stdout",
     "output_type": "stream",
     "text": [
      "<class 'pandas.core.frame.DataFrame'>\n",
      "RangeIndex: 4000 entries, 1 to 4000\n",
      "Data columns (total 6 columns):\n",
      " #   Column                Non-Null Count  Dtype \n",
      "---  ------                --------------  ----- \n",
      " 0   Loan_Amount           4000 non-null   object\n",
      " 1   Credit_Score          4000 non-null   object\n",
      " 2   Income                4000 non-null   object\n",
      " 3   Debt_to_Income_Ratio  4000 non-null   object\n",
      " 4   Late_Payments         4000 non-null   object\n",
      " 5   Target                4000 non-null   object\n",
      "dtypes: object(6)\n",
      "memory usage: 187.6+ KB\n"
     ]
    }
   ],
   "source": [
    "df.info()"
   ]
  },
  {
   "cell_type": "code",
   "execution_count": null,
   "id": "de532177",
   "metadata": {},
   "outputs": [],
   "source": []
  },
  {
   "cell_type": "code",
   "execution_count": 10,
   "id": "8c3c4d56",
   "metadata": {},
   "outputs": [
    {
     "data": {
      "text/plain": [
       "Loan_Amount             0\n",
       "Credit_Score            0\n",
       "Income                  0\n",
       "Debt_to_Income_Ratio    0\n",
       "Late_Payments           0\n",
       "Target                  0\n",
       "dtype: int64"
      ]
     },
     "execution_count": 10,
     "metadata": {},
     "output_type": "execute_result"
    }
   ],
   "source": [
    "df.isna().sum()"
   ]
  },
  {
   "cell_type": "code",
   "execution_count": 11,
   "id": "85615c6c",
   "metadata": {},
   "outputs": [],
   "source": [
    "df.dropna(axis = 0, inplace = True)"
   ]
  },
  {
   "cell_type": "code",
   "execution_count": 12,
   "id": "99fd6f13",
   "metadata": {},
   "outputs": [],
   "source": [
    "df.reset_index(drop = True, inplace=True)"
   ]
  },
  {
   "cell_type": "code",
   "execution_count": 13,
   "id": "6905e9c0",
   "metadata": {},
   "outputs": [
    {
     "data": {
      "text/html": [
       "<div>\n",
       "<style scoped>\n",
       "    .dataframe tbody tr th:only-of-type {\n",
       "        vertical-align: middle;\n",
       "    }\n",
       "\n",
       "    .dataframe tbody tr th {\n",
       "        vertical-align: top;\n",
       "    }\n",
       "\n",
       "    .dataframe thead th {\n",
       "        text-align: right;\n",
       "    }\n",
       "</style>\n",
       "<table border=\"1\" class=\"dataframe\">\n",
       "  <thead>\n",
       "    <tr style=\"text-align: right;\">\n",
       "      <th></th>\n",
       "      <th>Loan_Amount</th>\n",
       "      <th>Credit_Score</th>\n",
       "      <th>Income</th>\n",
       "      <th>Debt_to_Income_Ratio</th>\n",
       "      <th>Late_Payments</th>\n",
       "      <th>Target</th>\n",
       "    </tr>\n",
       "  </thead>\n",
       "  <tbody>\n",
       "    <tr>\n",
       "      <th>count</th>\n",
       "      <td>4000</td>\n",
       "      <td>4000</td>\n",
       "      <td>4000</td>\n",
       "      <td>4000</td>\n",
       "      <td>4000</td>\n",
       "      <td>4000</td>\n",
       "    </tr>\n",
       "    <tr>\n",
       "      <th>unique</th>\n",
       "      <td>990</td>\n",
       "      <td>990</td>\n",
       "      <td>990</td>\n",
       "      <td>990</td>\n",
       "      <td>990</td>\n",
       "      <td>2</td>\n",
       "    </tr>\n",
       "    <tr>\n",
       "      <th>top</th>\n",
       "      <td>1.5391231458489716</td>\n",
       "      <td>0.4847302387937893</td>\n",
       "      <td>-1.0459044311565246</td>\n",
       "      <td>1.4343760862911945</td>\n",
       "      <td>-0.9539214817935014</td>\n",
       "      <td>1</td>\n",
       "    </tr>\n",
       "    <tr>\n",
       "      <th>freq</th>\n",
       "      <td>9</td>\n",
       "      <td>9</td>\n",
       "      <td>9</td>\n",
       "      <td>9</td>\n",
       "      <td>9</td>\n",
       "      <td>2023</td>\n",
       "    </tr>\n",
       "  </tbody>\n",
       "</table>\n",
       "</div>"
      ],
      "text/plain": [
       "               Loan_Amount        Credit_Score               Income  \\\n",
       "count                 4000                4000                 4000   \n",
       "unique                 990                 990                  990   \n",
       "top     1.5391231458489716  0.4847302387937893  -1.0459044311565246   \n",
       "freq                     9                   9                    9   \n",
       "\n",
       "       Debt_to_Income_Ratio        Late_Payments Target  \n",
       "count                  4000                 4000   4000  \n",
       "unique                  990                  990      2  \n",
       "top      1.4343760862911945  -0.9539214817935014      1  \n",
       "freq                      9                    9   2023  "
      ]
     },
     "execution_count": 13,
     "metadata": {},
     "output_type": "execute_result"
    }
   ],
   "source": [
    "df.describe()"
   ]
  },
  {
   "cell_type": "code",
   "execution_count": 14,
   "id": "7206bdd9",
   "metadata": {},
   "outputs": [],
   "source": [
    "y = df[\"Target\"]"
   ]
  },
  {
   "cell_type": "code",
   "execution_count": 15,
   "id": "e6c309ea",
   "metadata": {},
   "outputs": [],
   "source": [
    "X = df.drop(\"Target\", axis = 1)"
   ]
  },
  {
   "cell_type": "code",
   "execution_count": 16,
   "id": "dbf64892",
   "metadata": {},
   "outputs": [],
   "source": [
    "from sklearn.preprocessing import StandardScaler\n",
    "scaler = StandardScaler()"
   ]
  },
  {
   "cell_type": "code",
   "execution_count": null,
   "id": "4c3ded57",
   "metadata": {},
   "outputs": [],
   "source": []
  },
  {
   "cell_type": "code",
   "execution_count": null,
   "id": "6433ac55",
   "metadata": {},
   "outputs": [],
   "source": []
  },
  {
   "cell_type": "code",
   "execution_count": 17,
   "id": "60918430",
   "metadata": {},
   "outputs": [],
   "source": [
    "from sklearn.model_selection import train_test_split"
   ]
  },
  {
   "cell_type": "code",
   "execution_count": 18,
   "id": "45214d74",
   "metadata": {},
   "outputs": [],
   "source": [
    "X_train, X_test, y_train, y_test = train_test_split(X, y, test_size=0.33)"
   ]
  },
  {
   "cell_type": "code",
   "execution_count": 19,
   "id": "55b3919f",
   "metadata": {},
   "outputs": [
    {
     "data": {
      "text/plain": [
       "0       0\n",
       "1       1\n",
       "2       1\n",
       "3       0\n",
       "4       1\n",
       "       ..\n",
       "3995    1\n",
       "3996    1\n",
       "3997    1\n",
       "3998    1\n",
       "3999    0\n",
       "Name: Target, Length: 4000, dtype: object"
      ]
     },
     "execution_count": 19,
     "metadata": {},
     "output_type": "execute_result"
    }
   ],
   "source": [
    "y"
   ]
  },
  {
   "cell_type": "code",
   "execution_count": null,
   "id": "868594cf",
   "metadata": {},
   "outputs": [],
   "source": []
  },
  {
   "cell_type": "code",
   "execution_count": 20,
   "id": "60f86f49",
   "metadata": {},
   "outputs": [],
   "source": [
    "#decision Tree"
   ]
  },
  {
   "cell_type": "code",
   "execution_count": 21,
   "id": "e96c9378",
   "metadata": {},
   "outputs": [],
   "source": [
    "from sklearn.tree import DecisionTreeClassifier"
   ]
  },
  {
   "cell_type": "code",
   "execution_count": 22,
   "id": "339d7394",
   "metadata": {},
   "outputs": [],
   "source": [
    "D_tree = DecisionTreeClassifier(criterion=\"entropy\")"
   ]
  },
  {
   "cell_type": "code",
   "execution_count": 23,
   "id": "ff3e4baa",
   "metadata": {},
   "outputs": [
    {
     "data": {
      "text/html": [
       "<style>#sk-container-id-1 {color: black;}#sk-container-id-1 pre{padding: 0;}#sk-container-id-1 div.sk-toggleable {background-color: white;}#sk-container-id-1 label.sk-toggleable__label {cursor: pointer;display: block;width: 100%;margin-bottom: 0;padding: 0.3em;box-sizing: border-box;text-align: center;}#sk-container-id-1 label.sk-toggleable__label-arrow:before {content: \"▸\";float: left;margin-right: 0.25em;color: #696969;}#sk-container-id-1 label.sk-toggleable__label-arrow:hover:before {color: black;}#sk-container-id-1 div.sk-estimator:hover label.sk-toggleable__label-arrow:before {color: black;}#sk-container-id-1 div.sk-toggleable__content {max-height: 0;max-width: 0;overflow: hidden;text-align: left;background-color: #f0f8ff;}#sk-container-id-1 div.sk-toggleable__content pre {margin: 0.2em;color: black;border-radius: 0.25em;background-color: #f0f8ff;}#sk-container-id-1 input.sk-toggleable__control:checked~div.sk-toggleable__content {max-height: 200px;max-width: 100%;overflow: auto;}#sk-container-id-1 input.sk-toggleable__control:checked~label.sk-toggleable__label-arrow:before {content: \"▾\";}#sk-container-id-1 div.sk-estimator input.sk-toggleable__control:checked~label.sk-toggleable__label {background-color: #d4ebff;}#sk-container-id-1 div.sk-label input.sk-toggleable__control:checked~label.sk-toggleable__label {background-color: #d4ebff;}#sk-container-id-1 input.sk-hidden--visually {border: 0;clip: rect(1px 1px 1px 1px);clip: rect(1px, 1px, 1px, 1px);height: 1px;margin: -1px;overflow: hidden;padding: 0;position: absolute;width: 1px;}#sk-container-id-1 div.sk-estimator {font-family: monospace;background-color: #f0f8ff;border: 1px dotted black;border-radius: 0.25em;box-sizing: border-box;margin-bottom: 0.5em;}#sk-container-id-1 div.sk-estimator:hover {background-color: #d4ebff;}#sk-container-id-1 div.sk-parallel-item::after {content: \"\";width: 100%;border-bottom: 1px solid gray;flex-grow: 1;}#sk-container-id-1 div.sk-label:hover label.sk-toggleable__label {background-color: #d4ebff;}#sk-container-id-1 div.sk-serial::before {content: \"\";position: absolute;border-left: 1px solid gray;box-sizing: border-box;top: 0;bottom: 0;left: 50%;z-index: 0;}#sk-container-id-1 div.sk-serial {display: flex;flex-direction: column;align-items: center;background-color: white;padding-right: 0.2em;padding-left: 0.2em;position: relative;}#sk-container-id-1 div.sk-item {position: relative;z-index: 1;}#sk-container-id-1 div.sk-parallel {display: flex;align-items: stretch;justify-content: center;background-color: white;position: relative;}#sk-container-id-1 div.sk-item::before, #sk-container-id-1 div.sk-parallel-item::before {content: \"\";position: absolute;border-left: 1px solid gray;box-sizing: border-box;top: 0;bottom: 0;left: 50%;z-index: -1;}#sk-container-id-1 div.sk-parallel-item {display: flex;flex-direction: column;z-index: 1;position: relative;background-color: white;}#sk-container-id-1 div.sk-parallel-item:first-child::after {align-self: flex-end;width: 50%;}#sk-container-id-1 div.sk-parallel-item:last-child::after {align-self: flex-start;width: 50%;}#sk-container-id-1 div.sk-parallel-item:only-child::after {width: 0;}#sk-container-id-1 div.sk-dashed-wrapped {border: 1px dashed gray;margin: 0 0.4em 0.5em 0.4em;box-sizing: border-box;padding-bottom: 0.4em;background-color: white;}#sk-container-id-1 div.sk-label label {font-family: monospace;font-weight: bold;display: inline-block;line-height: 1.2em;}#sk-container-id-1 div.sk-label-container {text-align: center;}#sk-container-id-1 div.sk-container {/* jupyter's `normalize.less` sets `[hidden] { display: none; }` but bootstrap.min.css set `[hidden] { display: none !important; }` so we also need the `!important` here to be able to override the default hidden behavior on the sphinx rendered scikit-learn.org. See: https://github.com/scikit-learn/scikit-learn/issues/21755 */display: inline-block !important;position: relative;}#sk-container-id-1 div.sk-text-repr-fallback {display: none;}</style><div id=\"sk-container-id-1\" class=\"sk-top-container\"><div class=\"sk-text-repr-fallback\"><pre>DecisionTreeClassifier(criterion=&#x27;entropy&#x27;)</pre><b>In a Jupyter environment, please rerun this cell to show the HTML representation or trust the notebook. <br />On GitHub, the HTML representation is unable to render, please try loading this page with nbviewer.org.</b></div><div class=\"sk-container\" hidden><div class=\"sk-item\"><div class=\"sk-estimator sk-toggleable\"><input class=\"sk-toggleable__control sk-hidden--visually\" id=\"sk-estimator-id-1\" type=\"checkbox\" checked><label for=\"sk-estimator-id-1\" class=\"sk-toggleable__label sk-toggleable__label-arrow\">DecisionTreeClassifier</label><div class=\"sk-toggleable__content\"><pre>DecisionTreeClassifier(criterion=&#x27;entropy&#x27;)</pre></div></div></div></div></div>"
      ],
      "text/plain": [
       "DecisionTreeClassifier(criterion='entropy')"
      ]
     },
     "execution_count": 23,
     "metadata": {},
     "output_type": "execute_result"
    }
   ],
   "source": [
    "D_tree.fit(X_train, y_train)"
   ]
  },
  {
   "cell_type": "code",
   "execution_count": 24,
   "id": "7fa786ad",
   "metadata": {},
   "outputs": [],
   "source": [
    "y_pred = D_tree.predict(X_test)"
   ]
  },
  {
   "cell_type": "code",
   "execution_count": 25,
   "id": "9d75acae",
   "metadata": {},
   "outputs": [],
   "source": [
    "from sklearn.metrics import confusion_matrix\n",
    "from sklearn.metrics import accuracy_score\n",
    "from sklearn.metrics import recall_score\n",
    "from sklearn.metrics import precision_score\n",
    "from sklearn.metrics import f1_score"
   ]
  },
  {
   "cell_type": "code",
   "execution_count": 26,
   "id": "3d7197e6",
   "metadata": {},
   "outputs": [],
   "source": [
    "y_pred = list(map(int,y_pred))"
   ]
  },
  {
   "cell_type": "code",
   "execution_count": 27,
   "id": "006c409a",
   "metadata": {},
   "outputs": [
    {
     "data": {
      "text/plain": [
       "3106    0\n",
       "3171    1\n",
       "677     0\n",
       "1374    0\n",
       "1839    0\n",
       "       ..\n",
       "3725    0\n",
       "2271    0\n",
       "30      1\n",
       "3385    0\n",
       "1897    0\n",
       "Name: Target, Length: 1320, dtype: object"
      ]
     },
     "execution_count": 27,
     "metadata": {},
     "output_type": "execute_result"
    }
   ],
   "source": [
    "y_test"
   ]
  },
  {
   "cell_type": "code",
   "execution_count": 28,
   "id": "8ae04a61",
   "metadata": {},
   "outputs": [],
   "source": [
    "y_test = y_test.astype(int)"
   ]
  },
  {
   "cell_type": "code",
   "execution_count": 29,
   "id": "97193286",
   "metadata": {},
   "outputs": [
    {
     "data": {
      "text/plain": [
       "array([[639,  14],\n",
       "       [ 32, 635]], dtype=int64)"
      ]
     },
     "execution_count": 29,
     "metadata": {},
     "output_type": "execute_result"
    }
   ],
   "source": [
    "confusion_matrix(y_test, y_pred, labels = [0, 1])"
   ]
  },
  {
   "cell_type": "code",
   "execution_count": 30,
   "id": "2fc6ec95",
   "metadata": {},
   "outputs": [
    {
     "data": {
      "text/plain": [
       "0.9651515151515152"
      ]
     },
     "execution_count": 30,
     "metadata": {},
     "output_type": "execute_result"
    }
   ],
   "source": [
    "accuracy_score(y_test, y_pred)"
   ]
  },
  {
   "cell_type": "code",
   "execution_count": 31,
   "id": "e1523734",
   "metadata": {},
   "outputs": [
    {
     "data": {
      "text/plain": [
       "0.952023988005997"
      ]
     },
     "execution_count": 31,
     "metadata": {},
     "output_type": "execute_result"
    }
   ],
   "source": [
    "recall_score(y_test, y_pred)"
   ]
  },
  {
   "cell_type": "code",
   "execution_count": 32,
   "id": "c31fc467",
   "metadata": {},
   "outputs": [
    {
     "data": {
      "text/plain": [
       "0.9784283513097073"
      ]
     },
     "execution_count": 32,
     "metadata": {},
     "output_type": "execute_result"
    }
   ],
   "source": [
    "precision_score(y_test, y_pred)"
   ]
  },
  {
   "cell_type": "code",
   "execution_count": 33,
   "id": "015e2ed0",
   "metadata": {},
   "outputs": [
    {
     "data": {
      "text/plain": [
       "0.9650455927051672"
      ]
     },
     "execution_count": 33,
     "metadata": {},
     "output_type": "execute_result"
    }
   ],
   "source": [
    "f1_score(y_test, y_pred)"
   ]
  },
  {
   "cell_type": "code",
   "execution_count": null,
   "id": "03109736",
   "metadata": {},
   "outputs": [],
   "source": []
  },
  {
   "cell_type": "code",
   "execution_count": null,
   "id": "9a8526d6",
   "metadata": {},
   "outputs": [],
   "source": []
  }
 ],
 "metadata": {
  "kernelspec": {
   "display_name": "Python 3 (ipykernel)",
   "language": "python",
   "name": "python3"
  },
  "language_info": {
   "codemirror_mode": {
    "name": "ipython",
    "version": 3
   },
   "file_extension": ".py",
   "mimetype": "text/x-python",
   "name": "python",
   "nbconvert_exporter": "python",
   "pygments_lexer": "ipython3",
   "version": "3.11.5"
  }
 },
 "nbformat": 4,
 "nbformat_minor": 5
}
